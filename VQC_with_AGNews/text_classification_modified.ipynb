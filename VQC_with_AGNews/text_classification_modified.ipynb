{
 "cells": [
  {
   "cell_type": "code",
   "execution_count": 298,
   "metadata": {
    "id": "v-gTVy_5wJ7d"
   },
   "outputs": [],
   "source": [
    "import numpy as np\n",
    "from sklearn.model_selection import train_test_split\n",
    "from sklearn.preprocessing import StandardScaler, LabelBinarizer\n",
    "from qiskit import QuantumCircuit, QuantumRegister, ClassicalRegister\n",
    "from qiskit.circuit import ParameterVector\n",
    "from qiskit.opflow import Z\n",
    "from qiskit.providers.aer import StatevectorSimulator\n",
    "from qiskit.algorithms.optimizers import COBYLA\n",
    "from qiskit_machine_learning.algorithms import VQC\n",
    "from qiskit_machine_learning.circuit.library import RawFeatureVector"
   ]
  },
  {
   "cell_type": "code",
   "execution_count": 299,
   "metadata": {
    "colab": {
     "base_uri": "https://localhost:8080/"
    },
    "id": "3sbk9Zu9L2nF",
    "outputId": "5c5a036b-1756-4b9b-c514-b41995c5fb68"
   },
   "outputs": [
    {
     "name": "stdout",
     "output_type": "stream",
     "text": [
      "Train data shape: (120000, 3)\n",
      "Test data shape: (7600, 3)\n"
     ]
    }
   ],
   "source": [
    "import pandas as pd\n",
    "\n",
    "# Read the training and testing CSV files into pandas dataframes\n",
    "train_df = pd.read_csv('Dataset/AGNews/train.csv')\n",
    "test_df = pd.read_csv('Dataset/AGNews/test.csv')\n",
    "\n",
    "# Print the shapes of the dataframes to verify they were loaded correctly\n",
    "print(\"Train data shape:\", train_df.shape)\n",
    "print(\"Test data shape:\", test_df.shape)\n"
   ]
  },
  {
   "cell_type": "markdown",
   "metadata": {
    "tags": []
   },
   "source": [
    "# Cleaning Data and preprocess it"
   ]
  },
  {
   "cell_type": "code",
   "execution_count": 300,
   "metadata": {},
   "outputs": [
    {
     "name": "stderr",
     "output_type": "stream",
     "text": [
      "[nltk_data] Downloading package stopwords to\n",
      "[nltk_data]     C:\\Users\\MAXFRAME\\AppData\\Roaming\\nltk_data...\n",
      "[nltk_data]   Package stopwords is already up-to-date!\n"
     ]
    }
   ],
   "source": [
    "import nltk\n",
    "import re\n",
    "\n",
    "# Download stop words\n",
    "nltk.download('stopwords')\n",
    "\n",
    "# Define a list of stop words\n",
    "stop_words = nltk.corpus.stopwords.words('english')"
   ]
  },
  {
   "cell_type": "code",
   "execution_count": 301,
   "metadata": {},
   "outputs": [],
   "source": [
    "# Define function for preprocessing text data\n",
    "def preprocess_text(text):\n",
    "    # Convert text to lower case\n",
    "    text = text.lower()\n",
    "    \n",
    "    # Remove stop words\n",
    "    tokens = nltk.tokenize.word_tokenize(text)\n",
    "    tokens = [token for token in tokens if token not in stop_words]\n",
    "    \n",
    "    # Remove symbols and digits\n",
    "    tokens = [re.sub(r'[^a-zA-Z]+', '', token) for token in tokens]\n",
    "    \n",
    "    # Remove words shorter than 3 characters\n",
    "    tokens = [token for token in tokens if len(token) > 2]\n",
    "    \n",
    "    # Join tokens back into a string\n",
    "    text = ' '.join(tokens)\n",
    "    \n",
    "    return text"
   ]
  },
  {
   "cell_type": "code",
   "execution_count": 302,
   "metadata": {
    "id": "isBdvX4bgIP6"
   },
   "outputs": [],
   "source": [
    "train_df['Description'] = train_df['Description'].apply(preprocess_text)\n",
    "train_df['Title'] = train_df['Title'].apply(preprocess_text)"
   ]
  },
  {
   "cell_type": "code",
   "execution_count": 303,
   "metadata": {
    "colab": {
     "base_uri": "https://localhost:8080/"
    },
    "id": "DFdrqx53qZJn",
    "outputId": "34378a1f-3b5b-425a-d798-4b865aaa9391"
   },
   "outputs": [
    {
     "data": {
      "text/plain": [
       "0                        wall bears claw back black reuters\n",
       "1         carlyle looks toward commercial aerospace reuters\n",
       "2                  oil economy cloud stocks outlook reuters\n",
       "3         iraq halts oil exports main southern pipeline ...\n",
       "4         oil prices soar alltime record posing new mena...\n",
       "                                ...                        \n",
       "119995              pakistan musharraf says quit army chief\n",
       "119996                       renteria signing topshelf deal\n",
       "119997                             saban going dolphins yet\n",
       "119998                                      today nfl games\n",
       "119999                              nets get carter raptors\n",
       "Name: Title, Length: 120000, dtype: object"
      ]
     },
     "execution_count": 303,
     "metadata": {},
     "output_type": "execute_result"
    }
   ],
   "source": [
    "train_df[\"Title\"]"
   ]
  },
  {
   "cell_type": "code",
   "execution_count": 304,
   "metadata": {
    "id": "Ctb42D4_n9GX"
   },
   "outputs": [],
   "source": [
    "test_df['Description'] = test_df['Description'].apply(preprocess_text)\n",
    "test_df['Title'] = test_df['Title'].apply(preprocess_text)"
   ]
  },
  {
   "cell_type": "code",
   "execution_count": 305,
   "metadata": {
    "id": "jC8jmOW7ZfJP"
   },
   "outputs": [],
   "source": [
    "X_train = train_df.sample(frac=0.0085, random_state=42)\n",
    "X_test = test_df.sample(frac=0.0079, random_state=42)"
   ]
  },
  {
   "cell_type": "code",
   "execution_count": 306,
   "metadata": {
    "colab": {
     "base_uri": "https://localhost:8080/"
    },
    "id": "bA5DJZyOQCaY",
    "outputId": "170ae111-c8da-4f92-ede1-6f184f299c93"
   },
   "outputs": [
    {
     "data": {
      "text/plain": [
       "(1020, 3)"
      ]
     },
     "execution_count": 306,
     "metadata": {},
     "output_type": "execute_result"
    }
   ],
   "source": [
    "X_train.shape"
   ]
  },
  {
   "cell_type": "code",
   "execution_count": 307,
   "metadata": {
    "colab": {
     "base_uri": "https://localhost:8080/"
    },
    "id": "_-Wzatj1K76k",
    "outputId": "772b67e3-0f8e-45ec-fe7d-8fdddfba44f8"
   },
   "outputs": [
    {
     "data": {
      "text/plain": [
       "(60, 3)"
      ]
     },
     "execution_count": 307,
     "metadata": {},
     "output_type": "execute_result"
    }
   ],
   "source": [
    "X_test.shape"
   ]
  },
  {
   "cell_type": "code",
   "execution_count": 308,
   "metadata": {
    "id": "MVNofh2YXsG6"
   },
   "outputs": [],
   "source": [
    "X_train['Text_classif'] = X_train['Title'].str.cat(X_train['Description'], sep=' ')"
   ]
  },
  {
   "cell_type": "code",
   "execution_count": 309,
   "metadata": {
    "id": "z2whf-TkXtD_"
   },
   "outputs": [],
   "source": [
    "X_test['Text_classif'] = X_test['Title'].str.cat(X_test['Description'], sep=' ')"
   ]
  },
  {
   "cell_type": "code",
   "execution_count": 310,
   "metadata": {
    "id": "vma9t3ODXtQF"
   },
   "outputs": [],
   "source": [
    "y_train = X_train['Class Index']"
   ]
  },
  {
   "cell_type": "code",
   "execution_count": 311,
   "metadata": {
    "id": "rUHsrCxpXtZl"
   },
   "outputs": [],
   "source": [
    "y_test= X_test['Class Index']"
   ]
  },
  {
   "cell_type": "code",
   "execution_count": 312,
   "metadata": {
    "id": "VtBrEjnFXtl4"
   },
   "outputs": [],
   "source": [
    "X_train = X_train.drop(['Title', 'Description', 'Class Index'], axis=1)\n",
    "X_test = X_test.drop(['Title', 'Description', 'Class Index'], axis=1)"
   ]
  },
  {
   "cell_type": "code",
   "execution_count": 313,
   "metadata": {
    "id": "zseAoO_j_trz"
   },
   "outputs": [],
   "source": [
    "def filter_data(x, y):\n",
    "  \"\"\"\n",
    "  Helper Function to filter the dataset\n",
    "  \"\"\"\n",
    "  #filter the data using labels\n",
    "  keep = (y == 1) | (y == 2)\n",
    "  x, y = x[keep], y[keep]\n",
    "\n",
    "  # convert labels to boolean\n",
    "  # y = True if y==5\n",
    "  # y = False if y==9\n",
    "  y = y == 1\n",
    "  return x,y"
   ]
  },
  {
   "cell_type": "code",
   "execution_count": 314,
   "metadata": {
    "id": "JUdIzJL0_6Mn"
   },
   "outputs": [],
   "source": [
    "#Filter the train set\n",
    "X_train_, y_train_ = filter_data(X_train, y_train)\n",
    "\n",
    "#Filter the test_set\n",
    "X_test_, y_test_ = filter_data(X_test, y_test)"
   ]
  },
  {
   "cell_type": "code",
   "execution_count": 315,
   "metadata": {
    "id": "zmT7rQICA5or"
   },
   "outputs": [],
   "source": [
    "y_train_ = y_train_.astype(int)\n",
    "y_test_ = y_test_.astype(int)"
   ]
  },
  {
   "cell_type": "code",
   "execution_count": 316,
   "metadata": {
    "id": "pGQLqm_IX27A"
   },
   "outputs": [],
   "source": [
    "from sklearn.feature_extraction.text import TfidfVectorizer\n",
    "# Convert preprocessed reviews to a matrix of token counts\n",
    "vectorizer = TfidfVectorizer(max_features=10)\n",
    "X_train_ = vectorizer.fit_transform(X_train_['Text_classif']).toarray()\n",
    "X_test_ = vectorizer.fit_transform(X_test_['Text_classif']).toarray()"
   ]
  },
  {
   "cell_type": "code",
   "execution_count": 317,
   "metadata": {
    "id": "BmyIL6kGqAbI"
   },
   "outputs": [],
   "source": [
    "import numpy as np\n",
    "from sklearn.decomposition import PCA\n",
    "n_components = 8\n",
    "pca = PCA(n_components=n_components)\n",
    "pca.fit(X_train_)\n",
    "# get the transformed data\n",
    "X_train_= pca.transform(X_train_)\n",
    "X_test_=pca.transform(X_test_)"
   ]
  },
  {
   "cell_type": "code",
   "execution_count": 318,
   "metadata": {
    "id": "CnxDtdrrbVAI"
   },
   "outputs": [],
   "source": [
    "y_train_ = np.array(y_train_)\n",
    "y_test_ = np.array(y_test_)"
   ]
  },
  {
   "cell_type": "code",
   "execution_count": 319,
   "metadata": {
    "id": "6Wbsj9dPbbcI"
   },
   "outputs": [],
   "source": [
    "y_train_ = np.array(y_train_).reshape(-1, 1)\n",
    "y_test_ = np.array(y_test_).reshape(-1, 1)"
   ]
  },
  {
   "cell_type": "markdown",
   "metadata": {
    "tags": []
   },
   "source": [
    "# Define Circuit, simulator, optimizer and cost operator"
   ]
  },
  {
   "cell_type": "code",
   "execution_count": 320,
   "metadata": {
    "id": "Czp8Fc8S2fbF"
   },
   "outputs": [],
   "source": [
    "from qiskit.circuit.library import TwoLocal\n",
    "from qiskit_machine_learning.circuit.library import RawFeatureVector\n",
    "\n",
    "feature_dim = X_train_.shape[1]\n",
    "feature_map = RawFeatureVector(feature_dimension=feature_dim)\n",
    "\n",
    "\n",
    "var_circuit = TwoLocal(feature_map.num_qubits, ['ry', 'rz'], 'cx', reps=3, entanglement='linear', insert_barriers=True)"
   ]
  },
  {
   "cell_type": "code",
   "execution_count": 321,
   "metadata": {
    "id": "vJnPcgu5kGq_"
   },
   "outputs": [],
   "source": [
    "# Step 3: Training the hybrid quantum-classical model\n",
    "# Define the quantum instance to run the VQC algorithm\n",
    "quantum_instance = StatevectorSimulator()"
   ]
  },
  {
   "cell_type": "code",
   "execution_count": 322,
   "metadata": {
    "id": "DIlXj6dJ2nNw"
   },
   "outputs": [],
   "source": [
    "# Define the optimizer\n",
    "optimizer = COBYLA(maxiter=100)"
   ]
  },
  {
   "cell_type": "code",
   "execution_count": 323,
   "metadata": {
    "id": "exa5glTP2qs6"
   },
   "outputs": [],
   "source": [
    "# Define the cost function\n",
    "cost_operator = Z ^ Z"
   ]
  },
  {
   "cell_type": "markdown",
   "metadata": {
    "tags": []
   },
   "source": [
    "# Train model"
   ]
  },
  {
   "cell_type": "markdown",
   "metadata": {},
   "source": [
    "## VQC model"
   ]
  },
  {
   "cell_type": "code",
   "execution_count": 324,
   "metadata": {
    "colab": {
     "base_uri": "https://localhost:8080/"
    },
    "id": "O1LhAXrI2tIF",
    "outputId": "e875045c-ebdb-456c-c652-028980e5d4c1"
   },
   "outputs": [],
   "source": [
    "# Instantiate the VQC algorithm\n",
    "vqc = VQC(feature_map=feature_map,\n",
    "          ansatz=var_circuit,\n",
    "          optimizer=optimizer,\n",
    "          quantum_instance=quantum_instance,\n",
    "          callback=None,\n",
    "          initial_point=None)"
   ]
  },
  {
   "cell_type": "code",
   "execution_count": 325,
   "metadata": {
    "colab": {
     "base_uri": "https://localhost:8080/"
    },
    "id": "HhB3Dhwk2wlg",
    "outputId": "63137060-0516-462e-f295-03343c836ed5",
    "tags": []
   },
   "outputs": [
    {
     "data": {
      "text/plain": [
       "<qiskit_machine_learning.algorithms.classifiers.vqc.VQC at 0x25babf06f10>"
      ]
     },
     "execution_count": 325,
     "metadata": {},
     "output_type": "execute_result"
    }
   ],
   "source": [
    "# Train the model\n",
    "vqc.fit(X_train_, y_train_)"
   ]
  },
  {
   "cell_type": "code",
   "execution_count": 326,
   "metadata": {
    "colab": {
     "base_uri": "https://localhost:8080/"
    },
    "id": "GddQoUpnRFFB",
    "outputId": "20017620-88b5-408f-cbbf-c7940e8c534b"
   },
   "outputs": [
    {
     "name": "stdout",
     "output_type": "stream",
     "text": [
      "Test accuracy: 0.50\n"
     ]
    }
   ],
   "source": [
    "# Step 4: Evaluating the classifier\n",
    "accuracy = vqc.score(X_test_, y_test_)\n",
    "print(f\"Test accuracy: {accuracy:.2f}\")"
   ]
  }
 ],
 "metadata": {
  "colab": {
   "provenance": []
  },
  "kernelspec": {
   "display_name": "Python 3 (ipykernel)",
   "language": "python",
   "name": "python3"
  },
  "language_info": {
   "codemirror_mode": {
    "name": "ipython",
    "version": 3
   },
   "file_extension": ".py",
   "mimetype": "text/x-python",
   "name": "python",
   "nbconvert_exporter": "python",
   "pygments_lexer": "ipython3",
   "version": "3.10.4"
  }
 },
 "nbformat": 4,
 "nbformat_minor": 4
}
